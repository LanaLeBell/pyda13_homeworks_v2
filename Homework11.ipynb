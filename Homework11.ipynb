{
 "cells": [
  {
   "cell_type": "markdown",
   "metadata": {},
   "source": [
    "#### Задание 1\n",
    "Скачайте с сайта https://grouplens.org/datasets/movielens/ датасет любого размера. Определите какому фильму было выставлено больше всего оценок 5.0."
   ]
  },
  {
   "cell_type": "code",
   "execution_count": 1,
   "metadata": {},
   "outputs": [
    {
     "data": {
      "text/plain": [
       "'Shawshank Redemption, The (1994)'"
      ]
     },
     "execution_count": 1,
     "metadata": {},
     "output_type": "execute_result"
    }
   ],
   "source": [
    "import pandas as pd\n",
    "\n",
    "ratings = pd.read_csv('ratings.csv')\n",
    "movies = pd.read_csv('movies.csv')\n",
    "\n",
    "top_rated = ratings[ratings['rating'] == 5.0].groupby('movieId').count().sort_values('rating', ascending=False)\n",
    "join = top_rated.merge(movies, on='movieId', how='left')\n",
    "join['title'].iloc[0]\n",
    "\n"
   ]
  },
  {
   "cell_type": "markdown",
   "metadata": {},
   "source": [
    "#### Задание 2\n",
    "По данным файла power.csv посчитайте суммарное потребление стран Прибалтики (Латвия, Литва и Эстония) категорий 4, 12 и 21 за период с 2005 по 2010 года. Не учитывайте в расчетах отрицательные значения quantity."
   ]
  },
  {
   "cell_type": "code",
   "execution_count": 2,
   "metadata": {},
   "outputs": [
    {
     "data": {
      "text/plain": [
       "201719.0"
      ]
     },
     "execution_count": 2,
     "metadata": {},
     "output_type": "execute_result"
    }
   ],
   "source": [
    "power = pd.read_csv('power.csv')\n",
    "power_sample = power[((power['country'] == 'Latvia') | (power['country'] == 'Lithuania') | (power['country'] == 'Estonia')) &\n",
    "                    ((power['category'] == 4) | (power['category'] == 12) | (power['category'] == 21))]\n",
    "power_sample = power_sample[power_sample['quantity'] > 0]\n",
    "power_sample = power_sample[(power_sample['year'] >=  2005) & (power_sample['year'] < 2010)]\n",
    "power_sample['quantity'].sum()"
   ]
  },
  {
   "cell_type": "markdown",
   "metadata": {},
   "source": [
    "#### Задание 3\n",
    "Выберите страницу любого сайта с табличными данными. Импортируйте таблицы в pandas dataframe.\n",
    "Примеры страниц (необязательно брать именно эти):\n",
    "https://fortrader.org/quotes\n",
    "https://www.finanz.ru/valyuty/v-realnom-vremeni"
   ]
  },
  {
   "cell_type": "code",
   "execution_count": 8,
   "metadata": {},
   "outputs": [
    {
     "data": {
      "text/plain": [
       "[                      0       1\n",
       " 0      Место проведения  Россия\n",
       " 1  Последний победитель   Зенит,\n",
       "     Unnamed: 0       Команда  М  В  Н  П  Заб  Проп   О\n",
       " 0            1         Зенит  7  5  1  1   13     4  16\n",
       " 1            2          Сочи  7  4  3  0   10     6  15\n",
       " 2            3       Спартак  7  4  2  1   11     8  14\n",
       " 3            4          ЦСКА  7  4  1  2   13     7  13\n",
       " 4            5        Динамо  7  3  2  2    6     4  11\n",
       " 5            6         Рубин  7  3  2  2   11     9  11\n",
       " 6            7     Краснодар  7  3  2  2   10     4  11\n",
       " 7            8        Ростов  7  3  2  2    4     5  11\n",
       " 8            9         Ахмат  7  3  1  3    8    10  10\n",
       " 9           10     Локомотив  7  2  3  2    7     6   9\n",
       " 10          11          Урал  7  2  3  2    6     6   9\n",
       " 11          12        Тамбов  7  2  1  4    7    10   7\n",
       " 12          13           Уфа  7  1  2  4    5    13   5\n",
       " 13          14  Арсенал Тула  7  1  2  4    7    11   5\n",
       " 14          15         Химки  7  0  3  4    5    11   3\n",
       " 15          16         Ротор  7  0  2  5    3    12   2]"
      ]
     },
     "execution_count": 8,
     "metadata": {},
     "output_type": "execute_result"
    }
   ],
   "source": [
    "pd.read_html('https://www.sports.ru/rfpl/table')"
   ]
  },
  {
   "cell_type": "code",
   "execution_count": null,
   "metadata": {},
   "outputs": [],
   "source": []
  }
 ],
 "metadata": {
  "kernelspec": {
   "display_name": "Python 3",
   "language": "python",
   "name": "python3"
  },
  "language_info": {
   "codemirror_mode": {
    "name": "ipython",
    "version": 3
   },
   "file_extension": ".py",
   "mimetype": "text/x-python",
   "name": "python",
   "nbconvert_exporter": "python",
   "pygments_lexer": "ipython3",
   "version": "3.8.3"
  }
 },
 "nbformat": 4,
 "nbformat_minor": 4
}
