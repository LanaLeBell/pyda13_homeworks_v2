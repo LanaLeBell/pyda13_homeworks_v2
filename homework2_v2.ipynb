{
 "cells": [
  {
   "cell_type": "markdown",
   "metadata": {},
   "source": [
    "## Решение домашнего задания к лекции \"Основы Python\""
   ]
  },
  {
   "cell_type": "markdown",
   "metadata": {},
   "source": [
    "### Задание 1"
   ]
  },
  {
   "cell_type": "code",
   "execution_count": 1,
   "metadata": {},
   "outputs": [
    {
     "name": "stdout",
     "output_type": "stream",
     "text": [
      "Фраза 2 длиннее Фразы 1\n"
     ]
    }
   ],
   "source": [
    "phrase_1 = 'Бог веселый винограда Позволяет нам три чаши Выпивать в пиру вечернем'\n",
    "phrase_2 = 'Мудрый после третьей чаши Все венки с главы слагает И творит уж возлиянья Благодатному Морфею'\n",
    "if phrase_1 > phrase_2:\n",
    "    print('Фраза 1 длиннее Фразы 2')\n",
    "elif phrase_2 > phrase_1:\n",
    "    print('Фраза 2 длиннее Фразы 1')\n",
    "else: print ('Фразы одной длинны')"
   ]
  },
  {
   "cell_type": "markdown",
   "metadata": {},
   "source": [
    "### Задание 2"
   ]
  },
  {
   "cell_type": "code",
   "execution_count": 2,
   "metadata": {},
   "outputs": [
    {
     "name": "stdout",
     "output_type": "stream",
     "text": [
      "Введите год: 2020\n",
      "Высокосный год\n"
     ]
    }
   ],
   "source": [
    "year = int(input ('Введите год: '))\n",
    "if (year % 100 == 0 and year % 400 == 0):\n",
    "    print('Высокосный год')\n",
    "elif (year % 4 == 0 and year % 100 > 0):\n",
    "    print('Высокосный год')\n",
    "elif (year % 100 == 0):\n",
    "    print('Обычный год')\n",
    "else: print('Обычный год')"
   ]
  },
  {
   "cell_type": "markdown",
   "metadata": {},
   "source": [
    "### Задание 3"
   ]
  },
  {
   "cell_type": "code",
   "execution_count": 3,
   "metadata": {},
   "outputs": [
    {
     "name": "stdout",
     "output_type": "stream",
     "text": [
      "Введите число: 19\n",
      "Введите месяц: Июнь\n",
      "Ваш знак задиака: Близнецы\n"
     ]
    }
   ],
   "source": [
    "date = int(input ('Введите число: '))\n",
    "month = input ('Введите месяц: ')\n",
    "if ((date >= 20 and month == 'Январь') or (date <= 18 and month == 'Февраль')):\n",
    "    print('Ваш знак задиака: Водолей')\n",
    "elif ((date >= 19 and month == 'Февраль') or (date <= 20 and month == 'Март')):\n",
    "    print('Ваш знак задиака: Рыбы')\n",
    "elif ((date >= 21 and month == 'Март') or (date <= 19 and month == 'Апрель')):\n",
    "    print('Ваш знак задиака: Овен')\n",
    "elif ((date >= 20 and month == 'Апрель') or (date <= 20 and month == 'Май')):\n",
    "    print('Ваш знак задиака: Телец')\n",
    "elif ((date >= 21 and month == 'Май') or (date <= 21 and month == 'Июнь')):\n",
    "    print('Ваш знак задиака: Близнецы')\n",
    "elif ((date >= 22 and month == 'Июнь') or (date <= 22 and month == 'Июль')):\n",
    "    print('Ваш знак задиака: Рак')\n",
    "elif ((date >= 23 and month == 'Июль') or (date <= 22 and month == 'Август')):\n",
    "    print('Ваш знак задиака: Лев')\n",
    "elif ((date >= 23 and month == 'Август') or (date <= 22 and month == 'Сентябрь')):\n",
    "    print('Ваш знак задиака: Дева')\n",
    "elif ((date >= 23 and month == 'Сентябрь') or (date <= 22 and month == 'Октябрь')):\n",
    "    print('Ваш знак задиака: Весы')\n",
    "elif ((date >= 23 and month == 'Октябрь') or (date <= 21 and month == 'Ноябрь')):\n",
    "    print('Ваш знак задиака: Скорпион')\n",
    "elif ((date >= 22 and month == 'Ноябрь') or (date <= 21 and month == 'Декабрь')):\n",
    "    print('Ваш знак задиака: Стрелец')\n",
    "elif ((date >= 22 and month == 'Декабрь') or (date <= 19 and month == 'Январь')):\n",
    "    print('Ваш знак задиака: Козерог')\n",
    "else: print ('Неверная дата')"
   ]
  },
  {
   "cell_type": "markdown",
   "metadata": {},
   "source": [
    "### Задание 4"
   ]
  },
  {
   "cell_type": "code",
   "execution_count": 4,
   "metadata": {},
   "outputs": [
    {
     "name": "stdout",
     "output_type": "stream",
     "text": [
      "Упаковка для лыж\n"
     ]
    }
   ],
   "source": [
    "width = 10\n",
    "length = 205\n",
    "height = 5\n",
    "if (width < 15 and length < 15 and height < 15):\n",
    "    print('Коробка № 1')\n",
    "elif ((50 > width > 15) or (50 > length > 15) or (50 > height > 15)):\n",
    "    print('Коробка № 2')\n",
    "elif (length > 200):\n",
    "    print ('Упаковка для лыж')\n",
    "else: print('Стандартная коробка №3')"
   ]
  },
  {
   "cell_type": "markdown",
   "metadata": {},
   "source": [
    "### Задание 5"
   ]
  },
  {
   "cell_type": "code",
   "execution_count": 5,
   "metadata": {},
   "outputs": [
    {
     "name": "stdout",
     "output_type": "stream",
     "text": [
      "Билет счастливый\n"
     ]
    }
   ],
   "source": [
    "num = 123321\n",
    "if (((num // 1000) // 100) + ((num // 1000) // 10 % 10) + ((num // 1000) % 10)) == (((num % 1000) // 100) + ((num % 1000) // 10 % 10) + ((num % 1000) % 10)):\n",
    "    print ('Билет счастливый')\n",
    "else: print ('Билет несчастливый') "
   ]
  },
  {
   "cell_type": "markdown",
   "metadata": {},
   "source": [
    "### Задание 6"
   ]
  },
  {
   "cell_type": "code",
   "execution_count": 11,
   "metadata": {},
   "outputs": [
    {
     "name": "stdout",
     "output_type": "stream",
     "text": [
      "Выберите тип фигуры: Круг(к), прямоугольник(п) или треугольник(т): к\n",
      "Введите радиус: 6\n",
      "Площадь круга равна:  113.09400000000001\n"
     ]
    }
   ],
   "source": [
    "type_form = input(\"Выберите тип фигуры: Круг(к), прямоугольник(п) или треугольник(т): \")\n",
    "if type_form == \"к\":\n",
    "    rad = int(input(\"Введите радиус: \"))\n",
    "    print (\"Площадь круга равна: \", 3.1415 * rad ** 2)\n",
    "elif type_form == \"п\":\n",
    "    l = int(input(\"Введите длинну: \"))\n",
    "    w = int(input(\"Введите ширину: \"))\n",
    "    print (\"Площадь прямоугольника равна: \",l * w)\n",
    "elif type_form ==\"т\":\n",
    "    ab = int(input(\"Введите длинну стороны AB: \"))\n",
    "    bc = int(input(\"Введите длинну стороны BC: \"))\n",
    "    ca = int(input(\"Введите длинну стороны CA: \"))\n",
    "    print (\"Площадь треугольника равна: \",((ab+bc+ca)/2) * (((ab+bc+ca)/2) - ab) * (((ab+bc+ca)/2) - bc) * (((ab+bc+ca)/2) - ca))\n",
    "else: print (\"Фигура выбрана неверно\")"
   ]
  }
 ],
 "metadata": {
  "kernelspec": {
   "display_name": "Python 3",
   "language": "python",
   "name": "python3"
  },
  "language_info": {
   "codemirror_mode": {
    "name": "ipython",
    "version": 3
   },
   "file_extension": ".py",
   "mimetype": "text/x-python",
   "name": "python",
   "nbconvert_exporter": "python",
   "pygments_lexer": "ipython3",
   "version": "3.8.3"
  }
 },
 "nbformat": 4,
 "nbformat_minor": 4
}
