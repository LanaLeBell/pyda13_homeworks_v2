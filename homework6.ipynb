{
 "cells": [
  {
   "cell_type": "markdown",
   "metadata": {},
   "source": [
    "# Домашнее задание к лекции Работа с файловой системой и модули"
   ]
  },
  {
   "cell_type": "markdown",
   "metadata": {},
   "source": [
    "##### Переведите содержимое файла purchase_log.txt в словарь purchases вида:\n",
    "{‘1840e0b9d4’: ‘Продукты’, …}\n",
    "\n",
    "##### Для каждого user_id в файле visit_log.csv определите третий столбец с категорией покупки (если покупка была, сам файл visit_log.csv изменять не надо). \n",
    "\n",
    "##### Запишите в файл funnel.csv визиты из файла visit_log.csv, в которых были покупки с указанием категории.\n",
    "\n",
    "Учтите условия на данные:\n",
    "содержимое purchase_log.txt помещается в оперативную память компьютера\n",
    "содержимое visit_log.csv - нет; используйте только построчную обработку этого файла"
   ]
  },
  {
   "cell_type": "code",
   "execution_count": 1,
   "metadata": {},
   "outputs": [
    {
     "name": "stdout",
     "output_type": "stream",
     "text": [
      "кол-во покупателей: 99999\n"
     ]
    }
   ],
   "source": [
    "import json\n",
    "purchases = dict()\n",
    "i = 0\n",
    "with open('purchase_log.txt', 'r', encoding='utf-8') as f:\n",
    "    next(f)    \n",
    "    for line in f:\n",
    "        line = line.strip()        \n",
    "        dict_line = json.loads(line)        \n",
    "        purchases[dict_line['user_id']] = dict_line['category']        \n",
    "        i += 1\n",
    "print(f'кол-во покупателей: {i}') "
   ]
  },
  {
   "cell_type": "code",
   "execution_count": 2,
   "metadata": {},
   "outputs": [
    {
     "name": "stdout",
     "output_type": "stream",
     "text": [
      "кол-во посетителей: 199999\n",
      "кол-во посетителей, купивших товар: 13798\n"
     ]
    }
   ],
   "source": [
    "visit_purchases = list()\n",
    "\n",
    "j = 0\n",
    "k = 0\n",
    "with open('visit_log.csv', 'r') as f:\n",
    "    with open('funnel.csv', 'w') as f_new:\n",
    "        next(f)\n",
    "        f_new.write('user_id,source,category\\n')\n",
    "    \n",
    "        for line in f:\n",
    "            list_line = line.strip().split(',')\n",
    "\n",
    "            if purchases.get(list_line[0]) != None:\n",
    "                list_line.append(purchases.get(list_line[0]))           \n",
    "                visit_purchases.append(list_line)                \n",
    "                str_line = ','.join(list_line) + '\\n'\n",
    "                f_new.write(str_line)                \n",
    "                k += 1\n",
    "            j += 1\n",
    "print(f'кол-во посетителей: {j}')\n",
    "print(f'кол-во посетителей, купивших товар: {k}')"
   ]
  },
  {
   "cell_type": "code",
   "execution_count": null,
   "metadata": {},
   "outputs": [],
   "source": []
  }
 ],
 "metadata": {
  "kernelspec": {
   "display_name": "Python 3",
   "language": "python",
   "name": "python3"
  },
  "language_info": {
   "codemirror_mode": {
    "name": "ipython",
    "version": 3
   },
   "file_extension": ".py",
   "mimetype": "text/x-python",
   "name": "python",
   "nbconvert_exporter": "python",
   "pygments_lexer": "ipython3",
   "version": "3.8.3"
  }
 },
 "nbformat": 4,
 "nbformat_minor": 4
}
