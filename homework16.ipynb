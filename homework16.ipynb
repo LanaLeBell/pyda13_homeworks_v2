{
 "cells": [
  {
   "cell_type": "markdown",
   "metadata": {},
   "source": [
    "Будем осуществлять работу с непростым [набором данных](https://raw.githubusercontent.com/obulygin/pyda_homeworks/master/statistics_basics/horse_data.csv) о состоянии здоровья лошадей, испытывающих кишечные колики. \n",
    "\n",
    "#### Задание 1. Базовое изучение\n",
    "\n",
    "Изучить представленный набор данных на основе [описания его столбцов](https://raw.githubusercontent.com/obulygin/pyda_homeworks/master/statistics_basics/horse_data.names) и выбрать 8 столбцов для дальнейшего изучения (среди них должны быть как числовые, так и категориальные). Провести расчет базовых метрик для них, кратко описать результаты.\n",
    "\n",
    "#### Задание 2. Работа с выбросами\n",
    "\n",
    "В выбранных числовых столбцах найти выбросы, выдвинуть гипотезы об их причинах и проинтерпретировать результаты. Принять и обосновать решение о дальнейшей работе с ними.\n",
    "\n",
    "#### Задание 3. Работа с пропусками\n",
    "\n",
    "Рассчитать количество выбросов для всех выбранных столбцов. Принять и обосновать решение о методе работы с пропусками по каждому столбцу, сформировать датафрейм, в котором пропуски будут отсутствовать."
   ]
  },
  {
   "cell_type": "code",
   "execution_count": 2,
   "metadata": {},
   "outputs": [
    {
     "data": {
      "text/html": [
       "<div>\n",
       "<style scoped>\n",
       "    .dataframe tbody tr th:only-of-type {\n",
       "        vertical-align: middle;\n",
       "    }\n",
       "\n",
       "    .dataframe tbody tr th {\n",
       "        vertical-align: top;\n",
       "    }\n",
       "\n",
       "    .dataframe thead th {\n",
       "        text-align: right;\n",
       "    }\n",
       "</style>\n",
       "<table border=\"1\" class=\"dataframe\">\n",
       "  <thead>\n",
       "    <tr style=\"text-align: right;\">\n",
       "      <th></th>\n",
       "      <th>surgery</th>\n",
       "      <th>age</th>\n",
       "      <th>id</th>\n",
       "      <th>temp</th>\n",
       "      <th>pulse</th>\n",
       "      <th>rrate</th>\n",
       "      <th>pain</th>\n",
       "      <th>abdomen</th>\n",
       "      <th>outcome</th>\n",
       "    </tr>\n",
       "  </thead>\n",
       "  <tbody>\n",
       "    <tr>\n",
       "      <th>0</th>\n",
       "      <td>2.0</td>\n",
       "      <td>1</td>\n",
       "      <td>530101</td>\n",
       "      <td>38.5</td>\n",
       "      <td>66.0</td>\n",
       "      <td>28.0</td>\n",
       "      <td>5.0</td>\n",
       "      <td>5.0</td>\n",
       "      <td>2.0</td>\n",
       "    </tr>\n",
       "    <tr>\n",
       "      <th>1</th>\n",
       "      <td>1.0</td>\n",
       "      <td>1</td>\n",
       "      <td>534817</td>\n",
       "      <td>39.2</td>\n",
       "      <td>88.0</td>\n",
       "      <td>20.0</td>\n",
       "      <td>3.0</td>\n",
       "      <td>2.0</td>\n",
       "      <td>3.0</td>\n",
       "    </tr>\n",
       "    <tr>\n",
       "      <th>2</th>\n",
       "      <td>2.0</td>\n",
       "      <td>1</td>\n",
       "      <td>530334</td>\n",
       "      <td>38.3</td>\n",
       "      <td>40.0</td>\n",
       "      <td>24.0</td>\n",
       "      <td>3.0</td>\n",
       "      <td>1.0</td>\n",
       "      <td>1.0</td>\n",
       "    </tr>\n",
       "    <tr>\n",
       "      <th>3</th>\n",
       "      <td>1.0</td>\n",
       "      <td>9</td>\n",
       "      <td>5290409</td>\n",
       "      <td>39.1</td>\n",
       "      <td>164.0</td>\n",
       "      <td>84.0</td>\n",
       "      <td>2.0</td>\n",
       "      <td>NaN</td>\n",
       "      <td>2.0</td>\n",
       "    </tr>\n",
       "    <tr>\n",
       "      <th>4</th>\n",
       "      <td>2.0</td>\n",
       "      <td>1</td>\n",
       "      <td>530255</td>\n",
       "      <td>37.3</td>\n",
       "      <td>104.0</td>\n",
       "      <td>35.0</td>\n",
       "      <td>NaN</td>\n",
       "      <td>NaN</td>\n",
       "      <td>2.0</td>\n",
       "    </tr>\n",
       "  </tbody>\n",
       "</table>\n",
       "</div>"
      ],
      "text/plain": [
       "   surgery  age       id  temp  pulse  rrate  pain  abdomen  outcome\n",
       "0      2.0    1   530101  38.5   66.0   28.0   5.0      5.0      2.0\n",
       "1      1.0    1   534817  39.2   88.0   20.0   3.0      2.0      3.0\n",
       "2      2.0    1   530334  38.3   40.0   24.0   3.0      1.0      1.0\n",
       "3      1.0    9  5290409  39.1  164.0   84.0   2.0      NaN      2.0\n",
       "4      2.0    1   530255  37.3  104.0   35.0   NaN      NaN      2.0"
      ]
     },
     "execution_count": 2,
     "metadata": {},
     "output_type": "execute_result"
    }
   ],
   "source": [
    "import pandas as pd\n",
    "\n",
    "col_names = ['surgery', 'age', 'id', 'temp', 'pulse', 'rrate', 'pain', 'abdomen', 'outcome']\n",
    "df = pd.read_csv('horse_data.csv', header=None, na_values='?', usecols=[0, 1, 2, 3, 4, 5, 10, 17, 22], names=col_names)\n",
    "df.head()"
   ]
  },
  {
   "cell_type": "code",
   "execution_count": 3,
   "metadata": {},
   "outputs": [
    {
     "name": "stdout",
     "output_type": "stream",
     "text": [
      "surgery - 1.0\n",
      "age - 1\n",
      "id - 527544\n",
      "temp - 38.0\n",
      "pulse - 48.0\n",
      "rrate - 20.0\n",
      "pain - 3.0\n",
      "abdomen - 5.0\n",
      "outcome - 1.0\n"
     ]
    }
   ],
   "source": [
    "for col in df.columns:\n",
    "    print(f\"{col} - {df[col].mode()[0]}\") "
   ]
  },
  {
   "cell_type": "code",
   "execution_count": 4,
   "metadata": {},
   "outputs": [
    {
     "data": {
      "text/html": [
       "<div>\n",
       "<style scoped>\n",
       "    .dataframe tbody tr th:only-of-type {\n",
       "        vertical-align: middle;\n",
       "    }\n",
       "\n",
       "    .dataframe tbody tr th {\n",
       "        vertical-align: top;\n",
       "    }\n",
       "\n",
       "    .dataframe thead th {\n",
       "        text-align: right;\n",
       "    }\n",
       "</style>\n",
       "<table border=\"1\" class=\"dataframe\">\n",
       "  <thead>\n",
       "    <tr style=\"text-align: right;\">\n",
       "      <th></th>\n",
       "      <th>surgery</th>\n",
       "      <th>age</th>\n",
       "      <th>id</th>\n",
       "      <th>temp</th>\n",
       "      <th>pulse</th>\n",
       "      <th>rrate</th>\n",
       "      <th>pain</th>\n",
       "      <th>abdomen</th>\n",
       "      <th>outcome</th>\n",
       "    </tr>\n",
       "  </thead>\n",
       "  <tbody>\n",
       "    <tr>\n",
       "      <th>count</th>\n",
       "      <td>299.000000</td>\n",
       "      <td>300.000000</td>\n",
       "      <td>3.000000e+02</td>\n",
       "      <td>240.000000</td>\n",
       "      <td>276.000000</td>\n",
       "      <td>242.000000</td>\n",
       "      <td>245.00000</td>\n",
       "      <td>182.000000</td>\n",
       "      <td>299.000000</td>\n",
       "    </tr>\n",
       "    <tr>\n",
       "      <th>mean</th>\n",
       "      <td>1.397993</td>\n",
       "      <td>1.640000</td>\n",
       "      <td>1.085889e+06</td>\n",
       "      <td>38.167917</td>\n",
       "      <td>71.913043</td>\n",
       "      <td>30.417355</td>\n",
       "      <td>2.95102</td>\n",
       "      <td>3.692308</td>\n",
       "      <td>1.551839</td>\n",
       "    </tr>\n",
       "    <tr>\n",
       "      <th>std</th>\n",
       "      <td>0.490305</td>\n",
       "      <td>2.173972</td>\n",
       "      <td>1.529801e+06</td>\n",
       "      <td>0.732289</td>\n",
       "      <td>28.630557</td>\n",
       "      <td>17.642231</td>\n",
       "      <td>1.30794</td>\n",
       "      <td>1.491725</td>\n",
       "      <td>0.737187</td>\n",
       "    </tr>\n",
       "    <tr>\n",
       "      <th>min</th>\n",
       "      <td>1.000000</td>\n",
       "      <td>1.000000</td>\n",
       "      <td>5.184760e+05</td>\n",
       "      <td>35.400000</td>\n",
       "      <td>30.000000</td>\n",
       "      <td>8.000000</td>\n",
       "      <td>1.00000</td>\n",
       "      <td>1.000000</td>\n",
       "      <td>1.000000</td>\n",
       "    </tr>\n",
       "    <tr>\n",
       "      <th>25%</th>\n",
       "      <td>1.000000</td>\n",
       "      <td>1.000000</td>\n",
       "      <td>5.289040e+05</td>\n",
       "      <td>37.800000</td>\n",
       "      <td>48.000000</td>\n",
       "      <td>18.500000</td>\n",
       "      <td>2.00000</td>\n",
       "      <td>2.000000</td>\n",
       "      <td>1.000000</td>\n",
       "    </tr>\n",
       "    <tr>\n",
       "      <th>50%</th>\n",
       "      <td>1.000000</td>\n",
       "      <td>1.000000</td>\n",
       "      <td>5.303055e+05</td>\n",
       "      <td>38.200000</td>\n",
       "      <td>64.000000</td>\n",
       "      <td>24.500000</td>\n",
       "      <td>3.00000</td>\n",
       "      <td>4.000000</td>\n",
       "      <td>1.000000</td>\n",
       "    </tr>\n",
       "    <tr>\n",
       "      <th>75%</th>\n",
       "      <td>2.000000</td>\n",
       "      <td>1.000000</td>\n",
       "      <td>5.347275e+05</td>\n",
       "      <td>38.500000</td>\n",
       "      <td>88.000000</td>\n",
       "      <td>36.000000</td>\n",
       "      <td>4.00000</td>\n",
       "      <td>5.000000</td>\n",
       "      <td>2.000000</td>\n",
       "    </tr>\n",
       "    <tr>\n",
       "      <th>max</th>\n",
       "      <td>2.000000</td>\n",
       "      <td>9.000000</td>\n",
       "      <td>5.305629e+06</td>\n",
       "      <td>40.800000</td>\n",
       "      <td>184.000000</td>\n",
       "      <td>96.000000</td>\n",
       "      <td>5.00000</td>\n",
       "      <td>5.000000</td>\n",
       "      <td>3.000000</td>\n",
       "    </tr>\n",
       "  </tbody>\n",
       "</table>\n",
       "</div>"
      ],
      "text/plain": [
       "          surgery         age            id        temp       pulse  \\\n",
       "count  299.000000  300.000000  3.000000e+02  240.000000  276.000000   \n",
       "mean     1.397993    1.640000  1.085889e+06   38.167917   71.913043   \n",
       "std      0.490305    2.173972  1.529801e+06    0.732289   28.630557   \n",
       "min      1.000000    1.000000  5.184760e+05   35.400000   30.000000   \n",
       "25%      1.000000    1.000000  5.289040e+05   37.800000   48.000000   \n",
       "50%      1.000000    1.000000  5.303055e+05   38.200000   64.000000   \n",
       "75%      2.000000    1.000000  5.347275e+05   38.500000   88.000000   \n",
       "max      2.000000    9.000000  5.305629e+06   40.800000  184.000000   \n",
       "\n",
       "            rrate       pain     abdomen     outcome  \n",
       "count  242.000000  245.00000  182.000000  299.000000  \n",
       "mean    30.417355    2.95102    3.692308    1.551839  \n",
       "std     17.642231    1.30794    1.491725    0.737187  \n",
       "min      8.000000    1.00000    1.000000    1.000000  \n",
       "25%     18.500000    2.00000    2.000000    1.000000  \n",
       "50%     24.500000    3.00000    4.000000    1.000000  \n",
       "75%     36.000000    4.00000    5.000000    2.000000  \n",
       "max     96.000000    5.00000    5.000000    3.000000  "
      ]
     },
     "execution_count": 4,
     "metadata": {},
     "output_type": "execute_result"
    }
   ],
   "source": [
    "df.describe()"
   ]
  },
  {
   "cell_type": "markdown",
   "metadata": {},
   "source": [
    "Выводы:\n",
    "большинство лошадей взрослые\n",
    "большинство были прооперированы\n",
    "температуры в среднем 38.2 \n",
    "пульс в основном 65 \n",
    "по болевому синдрому распределение одинаковое\n",
    "более половины выжило"
   ]
  },
  {
   "cell_type": "code",
   "execution_count": 5,
   "metadata": {},
   "outputs": [
    {
     "name": "stdout",
     "output_type": "stream",
     "text": [
      "     surgery  age      id  temp  pulse  rrate  pain  abdomen  outcome\n",
      "44       1.0    1  535407  35.4  140.0   24.0   4.0      5.0      3.0\n",
      "141      2.0    1  522979  36.0   42.0   30.0   NaN      NaN      2.0\n",
      "238      2.0    1  528702  36.1   88.0    NaN   3.0      4.0      3.0\n",
      "80       1.0    1  527518  36.4   98.0   35.0   4.0      4.0      2.0\n",
      "118      1.0    1  533983  36.5   78.0   30.0   5.0      NaN      1.0\n",
      "298      1.0    1  530612  36.5  100.0   24.0   3.0      4.0      1.0\n",
      "251      2.0    1  527940  36.6   42.0   18.0   1.0      5.0      2.0\n",
      "99       2.0    1  530002  39.6  108.0   51.0   2.0      5.0      1.0\n",
      "75       1.0    9  534092  39.7  100.0    NaN   2.0      NaN      3.0\n",
      "20       1.0    1  530157  39.9   72.0   60.0   5.0      4.0      1.0\n",
      "281      2.0    1  530624  40.0   78.0    NaN   2.0      1.0      2.0\n",
      "54       2.0    1  529461  40.3  114.0   36.0   2.0      5.0      3.0\n",
      "91       2.0    1  529461  40.3  114.0   36.0   2.0      5.0      2.0\n",
      "259      1.0    1  527734  40.8   72.0   42.0   2.0      NaN      2.0\n"
     ]
    }
   ],
   "source": [
    "q1 = df.temp.quantile(0.25)\n",
    "q3 = df.temp.quantile(0.75)\n",
    "iqr = q3 - q1\n",
    "lower_bound = q1 - (1.5 * iqr) \n",
    "upper_bound = q3 + (1.5 * iqr)\n",
    "\n",
    "outliers = df[(df.temp > upper_bound) | (df.temp < lower_bound)].sort_values('temp')\n",
    "print(outliers)"
   ]
  },
  {
   "cell_type": "code",
   "execution_count": 6,
   "metadata": {},
   "outputs": [
    {
     "name": "stdout",
     "output_type": "stream",
     "text": [
      "     surgery  age       id  temp  pulse  rrate  pain  abdomen  outcome\n",
      "41       2.0    9  5288249  39.0  150.0   72.0   NaN      NaN      1.0\n",
      "275      1.0    9  5297159  38.8  150.0   50.0   5.0      NaN      2.0\n",
      "55       1.0    9  5282839  38.6  160.0   20.0   3.0      NaN      2.0\n",
      "3        1.0    9  5290409  39.1  164.0   84.0   2.0      NaN      2.0\n",
      "255      1.0    9  5294539  38.8  184.0   84.0   4.0      NaN      2.0\n"
     ]
    }
   ],
   "source": [
    "q1 = df.pulse.quantile(0.25)\n",
    "q3 = df.pulse.quantile(0.75)\n",
    "iqr = q3 - q1\n",
    "lower_bound = q1 - (1.5 * iqr) \n",
    "upper_bound = q3 + (1.5 * iqr)\n",
    "\n",
    "outliers = df[(df.pulse > upper_bound) | (df.pulse < lower_bound)].sort_values('pulse')\n",
    "print(outliers)"
   ]
  },
  {
   "cell_type": "markdown",
   "metadata": {},
   "source": [
    "Выбросы присутствуют в данных температуры, пульса, дыхания, но могут быть признаны естественными для данной выборки.\n",
    "Кроме того, в графе возраст ошибка:  9 вместо 2, так же можно признать это выбросом."
   ]
  },
  {
   "cell_type": "code",
   "execution_count": 7,
   "metadata": {},
   "outputs": [
    {
     "name": "stdout",
     "output_type": "stream",
     "text": [
      "surgery - 0.3%\n",
      "age - 0.0%\n",
      "id - 0.0%\n",
      "temp - 20.0%\n",
      "pulse - 8.0%\n",
      "rrate - 19.3%\n",
      "pain - 18.3%\n",
      "abdomen - 39.3%\n",
      "outcome - 0.3%\n"
     ]
    }
   ],
   "source": [
    "for col in df.columns:\n",
    "    pct_missing = df[col].isnull().mean()\n",
    "    print(f'{col} - {pct_missing :.1%}')"
   ]
  },
  {
   "cell_type": "code",
   "execution_count": 9,
   "metadata": {},
   "outputs": [
    {
     "name": "stdout",
     "output_type": "stream",
     "text": [
      "<class 'pandas.core.frame.DataFrame'>\n",
      "RangeIndex: 300 entries, 0 to 299\n",
      "Data columns (total 9 columns):\n",
      " #   Column   Non-Null Count  Dtype  \n",
      "---  ------   --------------  -----  \n",
      " 0   surgery  299 non-null    float64\n",
      " 1   age      300 non-null    int64  \n",
      " 2   id       300 non-null    int64  \n",
      " 3   temp     240 non-null    float64\n",
      " 4   pulse    276 non-null    float64\n",
      " 5   rrate    242 non-null    float64\n",
      " 6   pain     300 non-null    object \n",
      " 7   abdomen  300 non-null    object \n",
      " 8   outcome  299 non-null    float64\n",
      "dtypes: float64(5), int64(2), object(2)\n",
      "memory usage: 21.2+ KB\n"
     ]
    }
   ],
   "source": [
    "df['pain'].fillna('no_info', inplace=True)\n",
    "df['abdomen'].fillna('no_info', inplace=True)\n",
    "df.info()"
   ]
  },
  {
   "cell_type": "code",
   "execution_count": 10,
   "metadata": {},
   "outputs": [
    {
     "name": "stdout",
     "output_type": "stream",
     "text": [
      "<class 'pandas.core.frame.DataFrame'>\n",
      "Int64Index: 206 entries, 0 to 299\n",
      "Data columns (total 9 columns):\n",
      " #   Column   Non-Null Count  Dtype  \n",
      "---  ------   --------------  -----  \n",
      " 0   surgery  206 non-null    float64\n",
      " 1   age      206 non-null    int64  \n",
      " 2   id       206 non-null    int64  \n",
      " 3   temp     206 non-null    float64\n",
      " 4   pulse    206 non-null    float64\n",
      " 5   rrate    206 non-null    float64\n",
      " 6   pain     206 non-null    object \n",
      " 7   abdomen  206 non-null    object \n",
      " 8   outcome  206 non-null    float64\n",
      "dtypes: float64(5), int64(2), object(2)\n",
      "memory usage: 16.1+ KB\n"
     ]
    }
   ],
   "source": [
    "df.dropna(inplace=True)\n",
    "df.info()"
   ]
  },
  {
   "cell_type": "markdown",
   "metadata": {},
   "source": [
    "Пропуски в surgery и outcome - возможно являются ошибками ввода, можно исключить такие строки.\n",
    "Числовые temp, pulse, rrate аналогично нужно удалить."
   ]
  }
 ],
 "metadata": {
  "kernelspec": {
   "display_name": "Python 3",
   "language": "python",
   "name": "python3"
  },
  "language_info": {
   "codemirror_mode": {
    "name": "ipython",
    "version": 3
   },
   "file_extension": ".py",
   "mimetype": "text/x-python",
   "name": "python",
   "nbconvert_exporter": "python",
   "pygments_lexer": "ipython3",
   "version": "3.8.3"
  }
 },
 "nbformat": 4,
 "nbformat_minor": 4
}
