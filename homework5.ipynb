{
 "cells": [
  {
   "cell_type": "markdown",
   "metadata": {},
   "source": [
    "# Домашнее задание к лекции \"Функции\""
   ]
  },
  {
   "cell_type": "code",
   "execution_count": 1,
   "metadata": {},
   "outputs": [],
   "source": [
    "documents = [\n",
    "    {'type': 'passport', 'number': '2207 876234', 'name': 'Василий Гупкин'},\n",
    "    {'type': 'invoice', 'number': '11-2', 'name': 'Геннадий Покемонов'},\n",
    "    {'type': 'insurance', 'number': '10006', 'name': 'Аристарх Павлов'}\n",
    "]"
   ]
  },
  {
   "cell_type": "code",
   "execution_count": 2,
   "metadata": {},
   "outputs": [],
   "source": [
    "directories = {\n",
    "    '1': ['2207 876234', '11-2'],\n",
    "    '2': ['10006'],\n",
    "    '3': []\n",
    "}"
   ]
  },
  {
   "cell_type": "code",
   "execution_count": 3,
   "metadata": {},
   "outputs": [],
   "source": [
    "#Пункт 1. \n",
    "def people():\n",
    "    \"\"\"\n",
    "    Пользователь по команде \"p\" может узнать владельца документа по его номеру\n",
    "    \"\"\"\n",
    "    input_number = input('Введите номер документа: ')\n",
    "    name_people = None\n",
    "    for document in documents:\n",
    "        if input_number == document['number']:\n",
    "            name_people = document['name']\n",
    "            print(f'Владелец документа: {name_people}')\n",
    "            \n",
    "    if name_people == None:\n",
    "        print('Документа не существует.')"
   ]
  },
  {
   "cell_type": "code",
   "execution_count": 4,
   "metadata": {},
   "outputs": [],
   "source": [
    "#Пункт 2.\n",
    "def shelf():  \n",
    "    \"\"\"\n",
    "    Пользователь по команде \"s\" может по номеру документа узнать на какой полке он хранитс    \n",
    "    \"\"\"\n",
    "    num_input = input ('Введите номер документа ')\n",
    "    found = 0\n",
    "    number_shelf = 0\n",
    "    for shelf, docs in directories.items():        \n",
    "        if num_input in docs: \n",
    "            found += 1\n",
    "            number_shelf += int(shelf)\n",
    "    if found == 1:   \n",
    "        print('Документ хранится на полке:', number_shelf)\n",
    "    else:\n",
    "        print('Документ не найден в базе')"
   ]
  },
  {
   "cell_type": "code",
   "execution_count": 5,
   "metadata": {},
   "outputs": [],
   "source": [
    "#Пункт 3. \n",
    "def all_doc():\n",
    "    \"\"\"\n",
    "    Пользователь по команде \"l\" может увидеть полную информацию по всем документам    \n",
    "    \"\"\"\n",
    "    for document in documents:\n",
    "        for key, values in directories.items():\n",
    "            if document['number'] in values:\n",
    "                shelf = key\n",
    "        print('№ документа: ', document['number'], ';', 'тип: ', document['type'], ';', 'Владелец: ', document['name'], ';' , 'Полка хранения: ', shelf)"
   ]
  },
  {
   "cell_type": "code",
   "execution_count": 6,
   "metadata": {},
   "outputs": [],
   "source": [
    "#Пункт 4. \n",
    "def add_shelf():\n",
    "    \"\"\"\n",
    "    Пользователь по команде \"as\" может добавить новую полку    \n",
    "    \"\"\"\n",
    "    input_shelf = input('Введите номер новой полки: ')\n",
    "    if input_shelf in directories.keys():\n",
    "        print('Полка с таким номером уже существует!', 'Текущий перечень полок: ', end='')\n",
    "        print(*list(directories.keys()), sep=', ')\n",
    "    else:\n",
    "        directories[input_shelf] = []\n",
    "        print(f'Полка номер {input_shelf} добавлена.', 'Текущий перечень полок: ', end='')\n",
    "        print(*list(directories.keys()), sep=', ')\n"
   ]
  },
  {
   "cell_type": "code",
   "execution_count": 7,
   "metadata": {},
   "outputs": [],
   "source": [
    "#Пункт 5. \n",
    "def del_shelf(): \n",
    "    \"\"\"\n",
    "    Пользователь по команде 'ds' может удалить полку при условии что она пустая\n",
    "    \"\"\"\n",
    "    shelf_delete = input('Введите номер полки: ')\n",
    "    if shelf_delete in list(directories.keys()) and directories[shelf_delete] == []:\n",
    "        del directories[shelf_delete]\n",
    "        print('Полка удалена. Текущий перечень полок: ', end='')\n",
    "        print(*list(directories.keys()), sep=', ')\n",
    "    elif shelf_delete in directories and directories[shelf_delete] != []:\n",
    "        print('На полке есть документы, удалите их перед удалением полки. Текущий перечень полок: ', end='')\n",
    "        print(*list(directories.keys()), sep=', ')\n",
    "    else:\n",
    "        print('Такой полки не существует. Текущий перечень полок: ', end='')\n",
    "        print(*list(directories.keys()), sep=', ')"
   ]
  },
  {
   "cell_type": "code",
   "execution_count": 8,
   "metadata": {},
   "outputs": [],
   "source": [
    "def main():\n",
    "    while True:\n",
    "        user_input = input('Введите команду ')\n",
    "        if user_input == 'p':\n",
    "            people()\n",
    "        elif user_input == 's':\n",
    "            shelf()\n",
    "        elif user_input == 'l':\n",
    "            all_doc()\n",
    "        elif user_input == 'as':\n",
    "            add_shelf()\n",
    "        elif user_input == 'ds':\n",
    "            del_shelf()\n",
    "        elif user_input == 'q':\n",
    "            print('Работа завершена.', '\\n', 'Хорошего дня!')\n",
    "            break\n",
    "        else:\n",
    "            print('Введена неверная команда')"
   ]
  },
  {
   "cell_type": "code",
   "execution_count": 9,
   "metadata": {},
   "outputs": [
    {
     "name": "stdout",
     "output_type": "stream",
     "text": [
      "Введите команду p\n",
      "Введите номер документа: 10006\n",
      "Владелец документа: Аристарх Павлов\n",
      "Введите команду p\n",
      "Введите номер документа: 111\n",
      "Документа не существует.\n",
      "Введите команду s\n",
      "Введите номер документа 11-2\n",
      "Документ хранится на полке: 1\n",
      "Введите команду s\n",
      "Введите номер документа 222\n",
      "Документ не найден в базе\n",
      "Введите команду l\n",
      "№ документа:  2207 876234 ; тип:  passport ; Владелец:  Василий Гупкин ; Полка хранения:  1\n",
      "№ документа:  11-2 ; тип:  invoice ; Владелец:  Геннадий Покемонов ; Полка хранения:  1\n",
      "№ документа:  10006 ; тип:  insurance ; Владелец:  Аристарх Павлов ; Полка хранения:  2\n",
      "Введите команду as\n",
      "Введите номер новой полки: 10\n",
      "Полка номер 10 добавлена. Текущий перечень полок: 1, 2, 3, 10\n",
      "Введите команду as\n",
      "Введите номер новой полки: 3\n",
      "Полка с таким номером уже существует! Текущий перечень полок: 1, 2, 3, 10\n",
      "Введите команду вы\n",
      "Введена неверная команда\n",
      "Введите команду вы\n",
      "Введена неверная команда\n",
      "Введите команду ds\n",
      "Введите номер полки: 3\n",
      "Полка удалена. Текущий перечень полок: 1, 2, 10\n",
      "Введите команду ds\n",
      "Введите номер полки: 2\n",
      "На полке есть документы, удалите их перед удалением полки. Текущий перечень полок: 1, 2, 10\n",
      "Введите команду q\n",
      "Работа завершена. \n",
      " Хорошего дня!\n"
     ]
    }
   ],
   "source": [
    "main()"
   ]
  },
  {
   "cell_type": "code",
   "execution_count": null,
   "metadata": {},
   "outputs": [],
   "source": []
  }
 ],
 "metadata": {
  "kernelspec": {
   "display_name": "Python 3",
   "language": "python",
   "name": "python3"
  },
  "language_info": {
   "codemirror_mode": {
    "name": "ipython",
    "version": 3
   },
   "file_extension": ".py",
   "mimetype": "text/x-python",
   "name": "python",
   "nbconvert_exporter": "python",
   "pygments_lexer": "ipython3",
   "version": "3.8.3"
  }
 },
 "nbformat": 4,
 "nbformat_minor": 4
}
