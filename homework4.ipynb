{
 "cells": [
  {
   "cell_type": "markdown",
   "metadata": {},
   "source": [
    "# Решение Домашнего задания «Управляющие конструкции и коллекции» часть 2"
   ]
  },
  {
   "cell_type": "markdown",
   "metadata": {},
   "source": [
    "## Задание 1"
   ]
  },
  {
   "cell_type": "code",
   "execution_count": 1,
   "metadata": {},
   "outputs": [
    {
     "name": "stdout",
     "output_type": "stream",
     "text": [
      "Рузультат:\n",
      "{98, 35, 15, 213, 54, 119}\n"
     ]
    }
   ],
   "source": [
    "ids = {\n",
    "    'user1': [213, 213, 213, 15, 213],\n",
    "    'user2': [54, 54, 119, 119, 119],\n",
    "    'user3': [213, 98, 98, 35]\n",
    "}\n",
    "print('Рузультат:')\n",
    "print(set(sum(ids.values(), [])))"
   ]
  },
  {
   "cell_type": "markdown",
   "metadata": {},
   "source": [
    "## Задание 2"
   ]
  },
  {
   "cell_type": "code",
   "execution_count": 8,
   "metadata": {},
   "outputs": [],
   "source": [
    "queries = [\n",
    "'смотреть сериалы онлайн',\n",
    "'новости спорта',\n",
    "'афиша кино',\n",
    "'курс доллара',\n",
    "'сериалы этим летом',\n",
    "'курс по питону',\n",
    "'сериалы про спорт',\n",
    "]"
   ]
  },
  {
   "cell_type": "code",
   "execution_count": 10,
   "metadata": {},
   "outputs": [
    {
     "name": "stdout",
     "output_type": "stream",
     "text": [
      " Поисковых запросов, содержащих 3 слов(а): 57 % \n",
      " Поисковых запросов, содержащих 2 слов(а): 43 % \n"
     ]
    }
   ],
   "source": [
    "result = {}\n",
    "\n",
    "for word in queries:\n",
    "    l = len(word.split(' '))\n",
    "    result[l] = result.get(l,0) + 1    \n",
    "s = sum(result.values())\n",
    "for key, values in result.items():\n",
    "    x = round(((values) * 100) / s) \n",
    "    print(f' Поисковых запросов, содержащих {key} слов(а): {x} % ')"
   ]
  },
  {
   "cell_type": "markdown",
   "metadata": {},
   "source": [
    "## Задание 3"
   ]
  },
  {
   "cell_type": "code",
   "execution_count": 6,
   "metadata": {},
   "outputs": [],
   "source": [
    "results = {\n",
    "'vk': {'revenue': 103, 'cost': 98},\n",
    "'yandex': {'revenue': 179, 'cost': 153},\n",
    "'facebook': {'revenue': 103, 'cost': 110},\n",
    "'adwords': {'revenue': 35, 'cost': 34},\n",
    "'twitter': {'revenue': 11, 'cost': 24},\n",
    "}"
   ]
  },
  {
   "cell_type": "code",
   "execution_count": 22,
   "metadata": {},
   "outputs": [
    {
     "name": "stdout",
     "output_type": "stream",
     "text": [
      "\n",
      " vk -  ROI: 5.1 ;  revenue:  103 ;cost: 98 ;\n",
      "\n",
      " yandex -  ROI: 16.99 ;  revenue:  179 ;cost: 153 ;\n",
      "\n",
      " facebook -  ROI: -6.36 ;  revenue:  103 ;cost: 110 ;\n",
      "\n",
      " adwords -  ROI: 2.94 ;  revenue:  35 ;cost: 34 ;\n",
      "\n",
      " twitter -  ROI: -54.17 ;  revenue:  11 ;cost: 24 ;\n"
     ]
    }
   ],
   "source": [
    "for company, info in results.items():\n",
    "    info['ROI'] = round(((info['revenue'] / info['cost'] - 1) * 100),2)\n",
    "    print('\\n', company, '- ', 'ROI:', info['ROI'], ';',  \" revenue: \", info['revenue'], ';' \"cost:\", info['cost'], ';')"
   ]
  },
  {
   "cell_type": "markdown",
   "metadata": {},
   "source": [
    "## Задание 4"
   ]
  },
  {
   "cell_type": "code",
   "execution_count": 13,
   "metadata": {},
   "outputs": [],
   "source": [
    "stats = {'facebook': 200, 'yandex': 115, 'vk': 120, 'google': 99, 'email': 42, 'ok': 98}"
   ]
  },
  {
   "cell_type": "code",
   "execution_count": 15,
   "metadata": {},
   "outputs": [
    {
     "name": "stdout",
     "output_type": "stream",
     "text": [
      "Максимальный объем продаж на рекламном канале:  facebook\n"
     ]
    }
   ],
   "source": [
    "    result = list(stats.values())\n",
    "    company = list(stats.keys())\n",
    "    print(\"Максимальный объем продаж на рекламном канале: \", company[result.index(max(result))])"
   ]
  },
  {
   "cell_type": "markdown",
   "metadata": {},
   "source": [
    "## Задание 5"
   ]
  },
  {
   "cell_type": "code",
   "execution_count": null,
   "metadata": {},
   "outputs": [],
   "source": []
  },
  {
   "cell_type": "markdown",
   "metadata": {},
   "source": [
    "## Задание 6"
   ]
  },
  {
   "cell_type": "code",
   "execution_count": null,
   "metadata": {},
   "outputs": [],
   "source": []
  }
 ],
 "metadata": {
  "kernelspec": {
   "display_name": "Python 3",
   "language": "python",
   "name": "python3"
  },
  "language_info": {
   "codemirror_mode": {
    "name": "ipython",
    "version": 3
   },
   "file_extension": ".py",
   "mimetype": "text/x-python",
   "name": "python",
   "nbconvert_exporter": "python",
   "pygments_lexer": "ipython3",
   "version": "3.8.3"
  }
 },
 "nbformat": 4,
 "nbformat_minor": 4
}
