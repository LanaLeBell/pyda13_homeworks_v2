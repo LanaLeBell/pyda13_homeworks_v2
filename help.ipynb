{
 "cells": [
  {
   "cell_type": "code",
   "execution_count": 1,
   "metadata": {},
   "outputs": [],
   "source": [
    "documents = [\n",
    " {'type': 'passport', 'number': '2207 876234', 'name': 'Василий Гупкин'},\n",
    " {'type': 'invoice', 'number': '11-2', 'name': 'Геннадий Покемонов'},\n",
    " {'type': 'insurance', 'number': '10006', 'name': 'Аристарх Павлов'}\n",
    "]"
   ]
  },
  {
   "cell_type": "code",
   "execution_count": 2,
   "metadata": {},
   "outputs": [],
   "source": [
    "directories = {\n",
    " '1': ['2207 876234', '11-2'],\n",
    " '2': ['10006'],\n",
    " '3': []\n",
    "}"
   ]
  },
  {
   "cell_type": "code",
   "execution_count": 7,
   "metadata": {},
   "outputs": [],
   "source": [
    "def owner(documents):\n",
    "    '''функция выводит владельца по номеру документа'''\n",
    "    inp = input('Введите номер документа: ')\n",
    "    for document in documents:\n",
    "        number = document['number']\n",
    "        name = document['name']\n",
    "        if inp == number:\n",
    "            print('\\n', 'Результат: ')\n",
    "            print('Владелец документа: ', name)\n",
    "        #else: print('Документ не найден в базе')"
   ]
  },
  {
   "cell_type": "markdown",
   "metadata": {},
   "source": [
    "### помогите с функцией owner - в таком виде работает, но если добавить условие #else: print('Документ не найден в базе') - нет. Что я не так сделала?"
   ]
  },
  {
   "cell_type": "code",
   "execution_count": 8,
   "metadata": {},
   "outputs": [
    {
     "name": "stdout",
     "output_type": "stream",
     "text": [
      "Введите номер документа: 10006\n",
      "Документ не найден в базе\n",
      "Документ не найден в базе\n",
      "\n",
      " Результат: \n",
      "Владелец документа:  Аристарх Павлов\n"
     ]
    }
   ],
   "source": [
    "owner(documents)"
   ]
  },
  {
   "cell_type": "code",
   "execution_count": 4,
   "metadata": {},
   "outputs": [],
   "source": [
    "def al(documents):\n",
    "    '''функция выводит полную информацию по всем документм'''\n",
    "    for document in documents:\n",
    "        type_doc = document['type']\n",
    "        doc_num = document['number']\n",
    "        name_ow = document['name']\n",
    "        for key, values in directories.items():\n",
    "            if document['number'] in values:\n",
    "                x = key\n",
    "                print('№ документа: ', doc_num, ';', 'тип: ', type_doc, ';', 'Владелец: ', name_ow, ';', 'полка: ', x)"
   ]
  },
  {
   "cell_type": "code",
   "execution_count": 5,
   "metadata": {},
   "outputs": [],
   "source": [
    "def main(documents):\n",
    "    while True:\n",
    "        user_input = input('Введите команду: ')\n",
    "        if user_input == 'l':\n",
    "            print('\\n', 'Результат: ', '\\n')\n",
    "            print(al(documents))\n",
    "        elif user_input == 'p':\n",
    "            print(owner(documents))\n",
    "        elif user_input == 'q':\n",
    "            print('\\n', 'Результат: ', '\\n')\n",
    "            print('Работа завершена.', '\\n', 'Хорошего дня!')\n",
    "            break\n",
    "        else:\n",
    "            print('Введена неверная команда')"
   ]
  },
  {
   "cell_type": "code",
   "execution_count": 6,
   "metadata": {},
   "outputs": [
    {
     "name": "stdout",
     "output_type": "stream",
     "text": [
      "Введите команду: l\n",
      "\n",
      " Результат:  \n",
      "\n",
      "№ документа:  2207 876234 ; тип:  passport ; Владелец:  Василий Гупкин ; полка:  1\n",
      "№ документа:  11-2 ; тип:  invoice ; Владелец:  Геннадий Покемонов ; полка:  1\n",
      "№ документа:  10006 ; тип:  insurance ; Владелец:  Аристарх Павлов ; полка:  2\n",
      "None\n",
      "Введите команду: p\n",
      "Введите номер документа: 10006\n",
      "\n",
      " Результат: \n",
      "Владелец документа:  Аристарх Павлов\n",
      "None\n",
      "Введите команду: q\n",
      "\n",
      " Результат:  \n",
      "\n",
      "Работа завершена. \n",
      " Хорошего дня!\n"
     ]
    }
   ],
   "source": [
    "main(documents)"
   ]
  },
  {
   "cell_type": "code",
   "execution_count": null,
   "metadata": {},
   "outputs": [],
   "source": []
  }
 ],
 "metadata": {
  "kernelspec": {
   "display_name": "Python 3",
   "language": "python",
   "name": "python3"
  },
  "language_info": {
   "codemirror_mode": {
    "name": "ipython",
    "version": 3
   },
   "file_extension": ".py",
   "mimetype": "text/x-python",
   "name": "python",
   "nbconvert_exporter": "python",
   "pygments_lexer": "ipython3",
   "version": "3.8.3"
  }
 },
 "nbformat": 4,
 "nbformat_minor": 4
}
