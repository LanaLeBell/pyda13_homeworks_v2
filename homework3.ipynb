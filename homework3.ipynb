{
 "cells": [
  {
   "cell_type": "markdown",
   "metadata": {},
   "source": [
    "## Решение Домашнего задания «Управляющие конструкции и коллекции» часть 1"
   ]
  },
  {
   "cell_type": "markdown",
   "metadata": {},
   "source": [
    "### Задание 1"
   ]
  },
  {
   "cell_type": "code",
   "execution_count": 4,
   "metadata": {},
   "outputs": [
    {
     "name": "stdout",
     "output_type": "stream",
     "text": [
      "Результат: \n",
      "e\n",
      "s\n"
     ]
    }
   ],
   "source": [
    "word = \"test\"\n",
    "if len(word) % 2 == 0:\n",
    "    print('Результат: ')\n",
    "    print(word[int(len(word) / 2) - 1])\n",
    "    print(word[int(len(word) / 2)])\n",
    "else: print('Результат: ', word[int(len(word) / 2)])"
   ]
  },
  {
   "cell_type": "markdown",
   "metadata": {},
   "source": [
    "### Задание 2"
   ]
  },
  {
   "cell_type": "code",
   "execution_count": 3,
   "metadata": {},
   "outputs": [
    {
     "name": "stdout",
     "output_type": "stream",
     "text": [
      "Введите число: 1\n",
      "Введите число: 2\n",
      "Введите число: 4\n",
      "Введите число: 0\n",
      "Итого:  7\n"
     ]
    }
   ],
   "source": [
    "a = int(input('Введите число: '))\n",
    "sum = 0\n",
    "while a !=0:\n",
    "    sum += a\n",
    "    a = int(input('Введите число: '))\n",
    "print(\"Итого: \", sum)"
   ]
  },
  {
   "cell_type": "markdown",
   "metadata": {},
   "source": [
    "### Задание 3"
   ]
  },
  {
   "cell_type": "code",
   "execution_count": 2,
   "metadata": {},
   "outputs": [
    {
     "name": "stdout",
     "output_type": "stream",
     "text": [
      "Идеальные пары:\n",
      "\n",
      " Alex и Emma\n",
      "\n",
      " John и Katerina\n",
      "\n",
      " Peter и Liza\n",
      "\n",
      " Richard и Sveta\n",
      "\n",
      " Tom и Trisha\n"
     ]
    }
   ],
   "source": [
    "boys = ['Peter', 'Alex', 'John', 'Tom', 'Richard']\n",
    "girls = ['Katerina', 'Liza', 'Sveta', 'Emma', 'Trisha']\n",
    "if len(boys) == len(girls):\n",
    "    name_by_name = zip(sorted(boys),sorted(girls))\n",
    "    print(\"Идеальные пары:\")\n",
    "else: print('Внимание! Кто-то может остаться без пары')\n",
    "for boys in name_by_name:\n",
    "    print('\\n',boys[0], 'и', boys[1])"
   ]
  },
  {
   "cell_type": "markdown",
   "metadata": {},
   "source": [
    "### Задание 4"
   ]
  },
  {
   "cell_type": "code",
   "execution_count": 1,
   "metadata": {},
   "outputs": [
    {
     "name": "stdout",
     "output_type": "stream",
     "text": [
      "Средняя температура в странах: \n",
      "\n",
      "Thailand - 24 C \n",
      "\n",
      "Germany - 14 C \n",
      "\n",
      "Russia - 4 C \n",
      "\n",
      "Poland - 12 C \n",
      "\n"
     ]
    }
   ],
   "source": [
    "countries_temperature = [\n",
    "['Thailand',  [75.2, 77, 78.8, 73.4, 68, 75.2, 77]],\n",
    "['Germany', [57.2, 55.4, 59, 59, 53.6]],\n",
    "['Russia', [35.6, 37.4, 39.2, 41, 42.8, 39.2, 35.6]],\n",
    "['Poland', [50, 50, 53.6, 57.2, 55.4, 55.4]]\n",
    "]\n",
    "print('Средняя температура в странах:', '\\n')\n",
    "for countries in countries_temperature:\n",
    "    print( countries[0], '-', round(((sum(countries[1]))/(len(countries[1]))-32)/1.8), 'C', '\\n')"
   ]
  },
  {
   "cell_type": "markdown",
   "metadata": {},
   "source": [
    "### Задание 5"
   ]
  },
  {
   "cell_type": "markdown",
   "metadata": {},
   "source": [
    "### Задание 6"
   ]
  }
 ],
 "metadata": {
  "kernelspec": {
   "display_name": "Python 3",
   "language": "python",
   "name": "python3"
  },
  "language_info": {
   "codemirror_mode": {
    "name": "ipython",
    "version": 3
   },
   "file_extension": ".py",
   "mimetype": "text/x-python",
   "name": "python",
   "nbconvert_exporter": "python",
   "pygments_lexer": "ipython3",
   "version": "3.8.3"
  }
 },
 "nbformat": 4,
 "nbformat_minor": 4
}
